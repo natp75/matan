{
 "cells": [
  {
   "cell_type": "code",
   "execution_count": null,
   "metadata": {},
   "outputs": [],
   "source": [
    "1.Пусть xn = n^(−1)^n. Доказать, что последовательность {xn}: \n",
    "а) неограниченная;\n",
    "при n=1 xn=1   \n",
    "при n=2 xn=2\n",
    "при n=3 xn=0.3\n",
    "при n=-1 xn=-1\n",
    "при n=-2 xn=-0.5\n",
    "последовательность неограниченная \n",
    "\n",
    "б) не является бесконечно большой.\n"
   ]
  },
  {
   "cell_type": "code",
   "execution_count": null,
   "metadata": {},
   "outputs": [],
   "source": [
    "Доказать, что последовательность {sin n} расходится.\n",
    "метод от противного:\n",
    "предположим lim n→∞ {sin n} =  lim n→∞ (sin(n+1)-sin(n-1))=0\n",
    "при sin(a)-sin(b)=2cos((a+b)/2)*sin((a-b)/2)=0\n",
    "2cos(n)sin(1)=0\n",
    "cos(n)=0\n",
    "sin(2n)=0\n",
    "но из cos^2(n)+ sin^2(n)=1 и cos(n)→0  sin(n)→1 что противоречит первонач предп.\n"
   ]
  },
  {
   "cell_type": "code",
   "execution_count": null,
   "metadata": {},
   "outputs": [],
   "source": [
    "Найти пределы:\n",
    "а) lim n→∞10n/(n^2+1) = (10n/n^2) / 1/(1/n^2)=0/(1+0)=0\n",
    "\n",
    "б) lim n→∞(n^2−n) / (n−√n)  = (1-n/n^2) / (n/n^2-√n/n^2)= 1/0 = ∞\n",
    "\n",
    "в) lim n→∞5·3^n / (3^n−2) = 5 limn→∞ (3^n/3^n) / ((3^n/3^n) - (2/3^n)) = 5*1/0=0\n",
    " "
   ]
  },
  {
   "cell_type": "code",
   "execution_count": null,
   "metadata": {},
   "outputs": [],
   "source": [
    "Найти предел lim n→∞(√n^2 + n)  − n = ((√n^2 + n)-n) * ((√n^2 + n)+n) / ((√n^2 + n)-n)= \n",
    "((√n^2 + n)-n)^2 - ((√n^2 + n)+n)^2 / ((√n^2 + n)-n)= (n^2+n-n^2-(n^2+n+n^2)) / ((√n^2 + n)-n) = 0/((√n^2 + n)-n)=0"
   ]
  },
  {
   "cell_type": "code",
   "execution_count": null,
   "metadata": {},
   "outputs": [],
   "source": [
    "Вычислить lim n→∞√n cos n / (n+1) = limn→∞√n * limn→∞ cos n / limn→∞ (n+1) = √n * 0 / (n+1) =  0\n"
   ]
  }
 ],
 "metadata": {
  "kernelspec": {
   "display_name": "Python 3",
   "language": "python",
   "name": "python3"
  },
  "language_info": {
   "codemirror_mode": {
    "name": "ipython",
    "version": 3
   },
   "file_extension": ".py",
   "mimetype": "text/x-python",
   "name": "python",
   "nbconvert_exporter": "python",
   "pygments_lexer": "ipython3",
   "version": "3.8.5"
  }
 },
 "nbformat": 4,
 "nbformat_minor": 4
}
