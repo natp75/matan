{
 "cells": [
  {
   "cell_type": "code",
   "execution_count": null,
   "id": "2edb7fd0",
   "metadata": {},
   "outputs": [],
   "source": [
    "#Практическое задание к лекции No2\n",
    "# Представьте в виде несократимой рациональной дроби:\n",
    "\n",
    "0.(216)\n",
    "0.(216) = a |*1000   \n",
    "1000a = 216 + 0.(216)\n",
    "1000a = 216 + a\n",
    "999a = 216\n",
    "a = 216/999\n",
    "\n",
    "1.0(01)  |100\n",
    "01=a\n",
    "100a=100+0.(01)  \n",
    "0.(01)= 1/99  \n",
    "100a=(100+1)/99\n",
    "a=101/9900\n"
   ]
  },
  {
   "cell_type": "code",
   "execution_count": null,
   "id": "45f3b13d",
   "metadata": {},
   "outputs": [],
   "source": [
    "Проверьте любым способом, являются ли данные логические формулы\n",
    "тавтологией:\n",
    "а) (A ∨ B) → (B ∨ A̅) \n",
    "    1   1      1  0\n",
    "      =1        =1\n",
    "        тавтология\n",
    "\n",
    "б) A → A ∨ (неВ ∧ A)\n",
    "   1   1     0    1\n",
    "   1   1        =0\n",
    "   1        =0\n",
    "     не тавтология\n"
   ]
  },
  {
   "cell_type": "code",
   "execution_count": null,
   "id": "eefe3936",
   "metadata": {},
   "outputs": [],
   "source": [
    "Сформулируйте словесно высказывания:\n",
    "а) (A̅ ∨ B) → C̅  сегодня НЕ светит солнце и сегодня сыро следовательно я НЕ поеду на дачу\n",
    "\n",
    "б) C → (A ∨ неB) я поеду на дачу следовательно сегодня светит солнце и сегодня НЕ сыро\n",
    "\n",
    "где А: сегодня светит солнце; В: сегодня сыро; С: я поеду на дачу."
   ]
  }
 ],
 "metadata": {
  "kernelspec": {
   "display_name": "Python 3",
   "language": "python",
   "name": "python3"
  },
  "language_info": {
   "codemirror_mode": {
    "name": "ipython",
    "version": 3
   },
   "file_extension": ".py",
   "mimetype": "text/x-python",
   "name": "python",
   "nbconvert_exporter": "python",
   "pygments_lexer": "ipython3",
   "version": "3.8.8"
  }
 },
 "nbformat": 4,
 "nbformat_minor": 5
}
