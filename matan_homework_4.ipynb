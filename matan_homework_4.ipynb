{
 "cells": [
  {
   "cell_type": "code",
   "execution_count": null,
   "metadata": {},
   "outputs": [],
   "source": [
    "limx→∞[ln(x + 3) − ln x] = ln ((x+3)/x)= (x/x + 3/x)/ (x/x) = (1+3/x)1 = 0   \n",
    "log 1=0\n"
   ]
  },
  {
   "cell_type": "code",
   "execution_count": null,
   "metadata": {},
   "outputs": [],
   "source": [
    "limx→0 ln(1+2x)/ arcsin 3x = (2x+o(x)) / 1/(√1-x^2) = (2x+o(x))*(√1-x^2) \n"
   ]
  },
  {
   "cell_type": "code",
   "execution_count": null,
   "metadata": {},
   "outputs": [],
   "source": [
    "limx→0 (7^x−1) / (3^x−1) = поизводная (7^x−1) / поизводная (3^x−1)=  7^x (ln7-0) / 3^x(ln3-0) = \n",
    "(7^x/3^x (ln7)) / 1*ln3= (7/3)^0 ln7/ln3 = ln7/ln3\n"
   ]
  },
  {
   "cell_type": "code",
   "execution_count": null,
   "metadata": {},
   "outputs": [],
   "source": [
    "lima→0 (x+a)^3 -x^3 / a = (0+a^3 - 0)/a = a^2\n"
   ]
  },
  {
   "cell_type": "code",
   "execution_count": null,
   "metadata": {},
   "outputs": [],
   "source": [
    "limx→∞ x^3/5x^2+1 − x^2/5x−3= -x^2(3x+1)/(5x^2+1)*(5x−3)= -3/25"
   ]
  },
  {
   "cell_type": "code",
   "execution_count": null,
   "metadata": {},
   "outputs": [],
   "source": [
    "limx→0 (1−cos 4x) / (2x·tg 2x) = (1-4-4x^2/2+0) / (x+0)2x = -5/2\n",
    "tg2x=2x+0\n",
    "cos4x=4-(4x^2/2+0)"
   ]
  },
  {
   "cell_type": "code",
   "execution_count": null,
   "metadata": {},
   "outputs": [],
   "source": [
    "limx→ ∞ x sin (2/x) =sin(2/x) / (1/x) = поизводная sin (2/x) / поизводная(1/x) = -(2 cos(2/x)/x^2)  / -1/x^2 = 2cos(2/x)"
   ]
  },
  {
   "cell_type": "code",
   "execution_count": null,
   "metadata": {},
   "outputs": [],
   "source": [
    "limx→0 (1 + tg x)^ctg x = e"
   ]
  },
  {
   "cell_type": "code",
   "execution_count": null,
   "metadata": {},
   "outputs": [],
   "source": [
    "limx→0 (cos 2x)^(1/sin^2*x)  = (cos 2x)^ -произв ctgx"
   ]
  },
  {
   "cell_type": "code",
   "execution_count": null,
   "metadata": {},
   "outputs": [],
   "source": [
    "limx→0 (√1+x sin x−1) / x^2 = 1"
   ]
  },
  {
   "cell_type": "code",
   "execution_count": null,
   "metadata": {},
   "outputs": [],
   "source": [
    "Установить характер разрыва функции в точке x0:\n",
    "1. f(x) = (x^2−16)/(x+4) , x0 = −4  limx→-4 (x^2−16)/(x+4)= -8\n",
    "limx→ -∞ lim=-∞\n",
    "limx→ +∞  lim=+∞\n",
    "x0= -4 точка разрыва второго порядка\n",
    "\n",
    "\n",
    "\n",
    "2. f(x) = sinx/x x0=0  limx→0 sinx/x =1 \n",
    "limx→ -∞ lim=0\n",
    "limx→ +∞ lim=0\n",
    "x0= 0 точка разрыва второго порядка"
   ]
  },
  {
   "cell_type": "code",
   "execution_count": null,
   "metadata": {},
   "outputs": [],
   "source": [
    "Исследовать на непрерывность функцию f(x) в точке\n",
    "x0:\n",
    "1. f(x) = arctg (2 /(x−1)), x0 = 1;\n",
    "lim x→1 arctg (2 /(x−1))\n",
    "limx→ +1 lim= пи/2\n",
    "limx→ -1 lim= - пи/2\n",
    "\n",
    "\n",
    "\n",
    "2. f(x) = 1/(2^(x−3)) −1, x0 = 3 - точка разрыва  1/2^(3-3) -1 = 0\n",
    "\n"
   ]
  }
 ],
 "metadata": {
  "kernelspec": {
   "display_name": "Python 3",
   "language": "python",
   "name": "python3"
  },
  "language_info": {
   "codemirror_mode": {
    "name": "ipython",
    "version": 3
   },
   "file_extension": ".py",
   "mimetype": "text/x-python",
   "name": "python",
   "nbconvert_exporter": "python",
   "pygments_lexer": "ipython3",
   "version": "3.8.5"
  }
 },
 "nbformat": 4,
 "nbformat_minor": 4
}
